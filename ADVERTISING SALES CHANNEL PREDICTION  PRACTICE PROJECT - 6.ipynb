{
 "cells": [
  {
   "cell_type": "markdown",
   "id": "0d62b359",
   "metadata": {},
   "source": [
    "# ADVERTISING SALES CHANNEL PREDICTION\n",
    "\n",
    "\n",
    " The predict the total sales generated from all the sales channel."
   ]
  },
  {
   "cell_type": "code",
   "execution_count": 1,
   "id": "def7f3d2",
   "metadata": {},
   "outputs": [],
   "source": [
    "import numpy as np\n",
    "import pandas as pd\n",
    "import matplotlib.pyplot as plt\n",
    "%matplotlib inline\n",
    "import seaborn as sns\n",
    "\n",
    "import warnings\n",
    "warnings.filterwarnings('ignore')"
   ]
  },
  {
   "cell_type": "code",
   "execution_count": 4,
   "id": "9435c529",
   "metadata": {},
   "outputs": [
    {
     "data": {
      "text/html": [
       "<div>\n",
       "<style scoped>\n",
       "    .dataframe tbody tr th:only-of-type {\n",
       "        vertical-align: middle;\n",
       "    }\n",
       "\n",
       "    .dataframe tbody tr th {\n",
       "        vertical-align: top;\n",
       "    }\n",
       "\n",
       "    .dataframe thead th {\n",
       "        text-align: right;\n",
       "    }\n",
       "</style>\n",
       "<table border=\"1\" class=\"dataframe\">\n",
       "  <thead>\n",
       "    <tr style=\"text-align: right;\">\n",
       "      <th></th>\n",
       "      <th>Unnamed: 0</th>\n",
       "      <th>TV</th>\n",
       "      <th>radio</th>\n",
       "      <th>newspaper</th>\n",
       "      <th>sales</th>\n",
       "    </tr>\n",
       "  </thead>\n",
       "  <tbody>\n",
       "    <tr>\n",
       "      <th>0</th>\n",
       "      <td>1</td>\n",
       "      <td>230.1</td>\n",
       "      <td>37.8</td>\n",
       "      <td>69.2</td>\n",
       "      <td>22.1</td>\n",
       "    </tr>\n",
       "    <tr>\n",
       "      <th>1</th>\n",
       "      <td>2</td>\n",
       "      <td>44.5</td>\n",
       "      <td>39.3</td>\n",
       "      <td>45.1</td>\n",
       "      <td>10.4</td>\n",
       "    </tr>\n",
       "    <tr>\n",
       "      <th>2</th>\n",
       "      <td>3</td>\n",
       "      <td>17.2</td>\n",
       "      <td>45.9</td>\n",
       "      <td>69.3</td>\n",
       "      <td>9.3</td>\n",
       "    </tr>\n",
       "    <tr>\n",
       "      <th>3</th>\n",
       "      <td>4</td>\n",
       "      <td>151.5</td>\n",
       "      <td>41.3</td>\n",
       "      <td>58.5</td>\n",
       "      <td>18.5</td>\n",
       "    </tr>\n",
       "    <tr>\n",
       "      <th>4</th>\n",
       "      <td>5</td>\n",
       "      <td>180.8</td>\n",
       "      <td>10.8</td>\n",
       "      <td>58.4</td>\n",
       "      <td>12.9</td>\n",
       "    </tr>\n",
       "    <tr>\n",
       "      <th>...</th>\n",
       "      <td>...</td>\n",
       "      <td>...</td>\n",
       "      <td>...</td>\n",
       "      <td>...</td>\n",
       "      <td>...</td>\n",
       "    </tr>\n",
       "    <tr>\n",
       "      <th>195</th>\n",
       "      <td>196</td>\n",
       "      <td>38.2</td>\n",
       "      <td>3.7</td>\n",
       "      <td>13.8</td>\n",
       "      <td>7.6</td>\n",
       "    </tr>\n",
       "    <tr>\n",
       "      <th>196</th>\n",
       "      <td>197</td>\n",
       "      <td>94.2</td>\n",
       "      <td>4.9</td>\n",
       "      <td>8.1</td>\n",
       "      <td>9.7</td>\n",
       "    </tr>\n",
       "    <tr>\n",
       "      <th>197</th>\n",
       "      <td>198</td>\n",
       "      <td>177.0</td>\n",
       "      <td>9.3</td>\n",
       "      <td>6.4</td>\n",
       "      <td>12.8</td>\n",
       "    </tr>\n",
       "    <tr>\n",
       "      <th>198</th>\n",
       "      <td>199</td>\n",
       "      <td>283.6</td>\n",
       "      <td>42.0</td>\n",
       "      <td>66.2</td>\n",
       "      <td>25.5</td>\n",
       "    </tr>\n",
       "    <tr>\n",
       "      <th>199</th>\n",
       "      <td>200</td>\n",
       "      <td>232.1</td>\n",
       "      <td>8.6</td>\n",
       "      <td>8.7</td>\n",
       "      <td>13.4</td>\n",
       "    </tr>\n",
       "  </tbody>\n",
       "</table>\n",
       "<p>200 rows × 5 columns</p>\n",
       "</div>"
      ],
      "text/plain": [
       "     Unnamed: 0     TV  radio  newspaper  sales\n",
       "0             1  230.1   37.8       69.2   22.1\n",
       "1             2   44.5   39.3       45.1   10.4\n",
       "2             3   17.2   45.9       69.3    9.3\n",
       "3             4  151.5   41.3       58.5   18.5\n",
       "4             5  180.8   10.8       58.4   12.9\n",
       "..          ...    ...    ...        ...    ...\n",
       "195         196   38.2    3.7       13.8    7.6\n",
       "196         197   94.2    4.9        8.1    9.7\n",
       "197         198  177.0    9.3        6.4   12.8\n",
       "198         199  283.6   42.0       66.2   25.5\n",
       "199         200  232.1    8.6        8.7   13.4\n",
       "\n",
       "[200 rows x 5 columns]"
      ]
     },
     "execution_count": 4,
     "metadata": {},
     "output_type": "execute_result"
    }
   ],
   "source": [
    "df=pd.read_csv(r'C:/Users/user/Desktop/DT Python/Advertising.csv')\n",
    "df"
   ]
  },
  {
   "cell_type": "code",
   "execution_count": 5,
   "id": "89eb3fd6",
   "metadata": {},
   "outputs": [
    {
     "data": {
      "text/html": [
       "<div>\n",
       "<style scoped>\n",
       "    .dataframe tbody tr th:only-of-type {\n",
       "        vertical-align: middle;\n",
       "    }\n",
       "\n",
       "    .dataframe tbody tr th {\n",
       "        vertical-align: top;\n",
       "    }\n",
       "\n",
       "    .dataframe thead th {\n",
       "        text-align: right;\n",
       "    }\n",
       "</style>\n",
       "<table border=\"1\" class=\"dataframe\">\n",
       "  <thead>\n",
       "    <tr style=\"text-align: right;\">\n",
       "      <th></th>\n",
       "      <th>Unnamed: 0</th>\n",
       "      <th>TV</th>\n",
       "      <th>radio</th>\n",
       "      <th>newspaper</th>\n",
       "      <th>sales</th>\n",
       "    </tr>\n",
       "  </thead>\n",
       "  <tbody>\n",
       "    <tr>\n",
       "      <th>0</th>\n",
       "      <td>1</td>\n",
       "      <td>230.1</td>\n",
       "      <td>37.8</td>\n",
       "      <td>69.2</td>\n",
       "      <td>22.1</td>\n",
       "    </tr>\n",
       "    <tr>\n",
       "      <th>1</th>\n",
       "      <td>2</td>\n",
       "      <td>44.5</td>\n",
       "      <td>39.3</td>\n",
       "      <td>45.1</td>\n",
       "      <td>10.4</td>\n",
       "    </tr>\n",
       "    <tr>\n",
       "      <th>2</th>\n",
       "      <td>3</td>\n",
       "      <td>17.2</td>\n",
       "      <td>45.9</td>\n",
       "      <td>69.3</td>\n",
       "      <td>9.3</td>\n",
       "    </tr>\n",
       "    <tr>\n",
       "      <th>3</th>\n",
       "      <td>4</td>\n",
       "      <td>151.5</td>\n",
       "      <td>41.3</td>\n",
       "      <td>58.5</td>\n",
       "      <td>18.5</td>\n",
       "    </tr>\n",
       "    <tr>\n",
       "      <th>4</th>\n",
       "      <td>5</td>\n",
       "      <td>180.8</td>\n",
       "      <td>10.8</td>\n",
       "      <td>58.4</td>\n",
       "      <td>12.9</td>\n",
       "    </tr>\n",
       "    <tr>\n",
       "      <th>...</th>\n",
       "      <td>...</td>\n",
       "      <td>...</td>\n",
       "      <td>...</td>\n",
       "      <td>...</td>\n",
       "      <td>...</td>\n",
       "    </tr>\n",
       "    <tr>\n",
       "      <th>195</th>\n",
       "      <td>196</td>\n",
       "      <td>38.2</td>\n",
       "      <td>3.7</td>\n",
       "      <td>13.8</td>\n",
       "      <td>7.6</td>\n",
       "    </tr>\n",
       "    <tr>\n",
       "      <th>196</th>\n",
       "      <td>197</td>\n",
       "      <td>94.2</td>\n",
       "      <td>4.9</td>\n",
       "      <td>8.1</td>\n",
       "      <td>9.7</td>\n",
       "    </tr>\n",
       "    <tr>\n",
       "      <th>197</th>\n",
       "      <td>198</td>\n",
       "      <td>177.0</td>\n",
       "      <td>9.3</td>\n",
       "      <td>6.4</td>\n",
       "      <td>12.8</td>\n",
       "    </tr>\n",
       "    <tr>\n",
       "      <th>198</th>\n",
       "      <td>199</td>\n",
       "      <td>283.6</td>\n",
       "      <td>42.0</td>\n",
       "      <td>66.2</td>\n",
       "      <td>25.5</td>\n",
       "    </tr>\n",
       "    <tr>\n",
       "      <th>199</th>\n",
       "      <td>200</td>\n",
       "      <td>232.1</td>\n",
       "      <td>8.6</td>\n",
       "      <td>8.7</td>\n",
       "      <td>13.4</td>\n",
       "    </tr>\n",
       "  </tbody>\n",
       "</table>\n",
       "<p>200 rows × 5 columns</p>\n",
       "</div>"
      ],
      "text/plain": [
       "     Unnamed: 0     TV  radio  newspaper  sales\n",
       "0             1  230.1   37.8       69.2   22.1\n",
       "1             2   44.5   39.3       45.1   10.4\n",
       "2             3   17.2   45.9       69.3    9.3\n",
       "3             4  151.5   41.3       58.5   18.5\n",
       "4             5  180.8   10.8       58.4   12.9\n",
       "..          ...    ...    ...        ...    ...\n",
       "195         196   38.2    3.7       13.8    7.6\n",
       "196         197   94.2    4.9        8.1    9.7\n",
       "197         198  177.0    9.3        6.4   12.8\n",
       "198         199  283.6   42.0       66.2   25.5\n",
       "199         200  232.1    8.6        8.7   13.4\n",
       "\n",
       "[200 rows x 5 columns]"
      ]
     },
     "execution_count": 5,
     "metadata": {},
     "output_type": "execute_result"
    }
   ],
   "source": [
    "df_raw=pd.read_csv(r'https://raw.githubusercontent.com/dsrscientist/DSData/master/Advertising.csv')\n",
    "df_raw"
   ]
  },
  {
   "cell_type": "code",
   "execution_count": 6,
   "id": "80484637",
   "metadata": {},
   "outputs": [
    {
     "data": {
      "text/html": [
       "<div>\n",
       "<style scoped>\n",
       "    .dataframe tbody tr th:only-of-type {\n",
       "        vertical-align: middle;\n",
       "    }\n",
       "\n",
       "    .dataframe tbody tr th {\n",
       "        vertical-align: top;\n",
       "    }\n",
       "\n",
       "    .dataframe thead th {\n",
       "        text-align: right;\n",
       "    }\n",
       "</style>\n",
       "<table border=\"1\" class=\"dataframe\">\n",
       "  <thead>\n",
       "    <tr style=\"text-align: right;\">\n",
       "      <th></th>\n",
       "      <th>Unnamed: 0</th>\n",
       "      <th>TV</th>\n",
       "      <th>radio</th>\n",
       "      <th>newspaper</th>\n",
       "      <th>sales</th>\n",
       "    </tr>\n",
       "  </thead>\n",
       "  <tbody>\n",
       "    <tr>\n",
       "      <th>0</th>\n",
       "      <td>1</td>\n",
       "      <td>230.1</td>\n",
       "      <td>37.8</td>\n",
       "      <td>69.2</td>\n",
       "      <td>22.1</td>\n",
       "    </tr>\n",
       "    <tr>\n",
       "      <th>1</th>\n",
       "      <td>2</td>\n",
       "      <td>44.5</td>\n",
       "      <td>39.3</td>\n",
       "      <td>45.1</td>\n",
       "      <td>10.4</td>\n",
       "    </tr>\n",
       "    <tr>\n",
       "      <th>2</th>\n",
       "      <td>3</td>\n",
       "      <td>17.2</td>\n",
       "      <td>45.9</td>\n",
       "      <td>69.3</td>\n",
       "      <td>9.3</td>\n",
       "    </tr>\n",
       "    <tr>\n",
       "      <th>3</th>\n",
       "      <td>4</td>\n",
       "      <td>151.5</td>\n",
       "      <td>41.3</td>\n",
       "      <td>58.5</td>\n",
       "      <td>18.5</td>\n",
       "    </tr>\n",
       "    <tr>\n",
       "      <th>4</th>\n",
       "      <td>5</td>\n",
       "      <td>180.8</td>\n",
       "      <td>10.8</td>\n",
       "      <td>58.4</td>\n",
       "      <td>12.9</td>\n",
       "    </tr>\n",
       "  </tbody>\n",
       "</table>\n",
       "</div>"
      ],
      "text/plain": [
       "   Unnamed: 0     TV  radio  newspaper  sales\n",
       "0           1  230.1   37.8       69.2   22.1\n",
       "1           2   44.5   39.3       45.1   10.4\n",
       "2           3   17.2   45.9       69.3    9.3\n",
       "3           4  151.5   41.3       58.5   18.5\n",
       "4           5  180.8   10.8       58.4   12.9"
      ]
     },
     "execution_count": 6,
     "metadata": {},
     "output_type": "execute_result"
    }
   ],
   "source": [
    "df.head()"
   ]
  },
  {
   "cell_type": "code",
   "execution_count": 7,
   "id": "507d3e84",
   "metadata": {},
   "outputs": [
    {
     "data": {
      "text/html": [
       "<div>\n",
       "<style scoped>\n",
       "    .dataframe tbody tr th:only-of-type {\n",
       "        vertical-align: middle;\n",
       "    }\n",
       "\n",
       "    .dataframe tbody tr th {\n",
       "        vertical-align: top;\n",
       "    }\n",
       "\n",
       "    .dataframe thead th {\n",
       "        text-align: right;\n",
       "    }\n",
       "</style>\n",
       "<table border=\"1\" class=\"dataframe\">\n",
       "  <thead>\n",
       "    <tr style=\"text-align: right;\">\n",
       "      <th></th>\n",
       "      <th>Unnamed: 0</th>\n",
       "      <th>TV</th>\n",
       "      <th>radio</th>\n",
       "      <th>newspaper</th>\n",
       "      <th>sales</th>\n",
       "    </tr>\n",
       "  </thead>\n",
       "  <tbody>\n",
       "    <tr>\n",
       "      <th>195</th>\n",
       "      <td>196</td>\n",
       "      <td>38.2</td>\n",
       "      <td>3.7</td>\n",
       "      <td>13.8</td>\n",
       "      <td>7.6</td>\n",
       "    </tr>\n",
       "    <tr>\n",
       "      <th>196</th>\n",
       "      <td>197</td>\n",
       "      <td>94.2</td>\n",
       "      <td>4.9</td>\n",
       "      <td>8.1</td>\n",
       "      <td>9.7</td>\n",
       "    </tr>\n",
       "    <tr>\n",
       "      <th>197</th>\n",
       "      <td>198</td>\n",
       "      <td>177.0</td>\n",
       "      <td>9.3</td>\n",
       "      <td>6.4</td>\n",
       "      <td>12.8</td>\n",
       "    </tr>\n",
       "    <tr>\n",
       "      <th>198</th>\n",
       "      <td>199</td>\n",
       "      <td>283.6</td>\n",
       "      <td>42.0</td>\n",
       "      <td>66.2</td>\n",
       "      <td>25.5</td>\n",
       "    </tr>\n",
       "    <tr>\n",
       "      <th>199</th>\n",
       "      <td>200</td>\n",
       "      <td>232.1</td>\n",
       "      <td>8.6</td>\n",
       "      <td>8.7</td>\n",
       "      <td>13.4</td>\n",
       "    </tr>\n",
       "  </tbody>\n",
       "</table>\n",
       "</div>"
      ],
      "text/plain": [
       "     Unnamed: 0     TV  radio  newspaper  sales\n",
       "195         196   38.2    3.7       13.8    7.6\n",
       "196         197   94.2    4.9        8.1    9.7\n",
       "197         198  177.0    9.3        6.4   12.8\n",
       "198         199  283.6   42.0       66.2   25.5\n",
       "199         200  232.1    8.6        8.7   13.4"
      ]
     },
     "execution_count": 7,
     "metadata": {},
     "output_type": "execute_result"
    }
   ],
   "source": [
    "df.tail()"
   ]
  },
  {
   "cell_type": "code",
   "execution_count": 9,
   "id": "bd72885c",
   "metadata": {},
   "outputs": [
    {
     "data": {
      "text/plain": [
       "Index(['Unnamed: 0', 'TV', 'radio', 'newspaper', 'sales'], dtype='object')"
      ]
     },
     "execution_count": 9,
     "metadata": {},
     "output_type": "execute_result"
    }
   ],
   "source": [
    "df.columns"
   ]
  },
  {
   "cell_type": "code",
   "execution_count": 11,
   "id": "c71123d1",
   "metadata": {},
   "outputs": [
    {
     "data": {
      "text/plain": [
       "<bound method DataFrame.iterrows of      Unnamed: 0     TV  radio  newspaper  sales\n",
       "0             1  230.1   37.8       69.2   22.1\n",
       "1             2   44.5   39.3       45.1   10.4\n",
       "2             3   17.2   45.9       69.3    9.3\n",
       "3             4  151.5   41.3       58.5   18.5\n",
       "4             5  180.8   10.8       58.4   12.9\n",
       "..          ...    ...    ...        ...    ...\n",
       "195         196   38.2    3.7       13.8    7.6\n",
       "196         197   94.2    4.9        8.1    9.7\n",
       "197         198  177.0    9.3        6.4   12.8\n",
       "198         199  283.6   42.0       66.2   25.5\n",
       "199         200  232.1    8.6        8.7   13.4\n",
       "\n",
       "[200 rows x 5 columns]>"
      ]
     },
     "execution_count": 11,
     "metadata": {},
     "output_type": "execute_result"
    }
   ],
   "source": [
    " df.iterrows"
   ]
  },
  {
   "cell_type": "code",
   "execution_count": 12,
   "id": "362f764a",
   "metadata": {},
   "outputs": [
    {
     "data": {
      "text/plain": [
       "(200, 5)"
      ]
     },
     "execution_count": 12,
     "metadata": {},
     "output_type": "execute_result"
    }
   ],
   "source": [
    "df.shape"
   ]
  },
  {
   "cell_type": "code",
   "execution_count": 14,
   "id": "14069a7d",
   "metadata": {},
   "outputs": [
    {
     "data": {
      "text/html": [
       "<div>\n",
       "<style scoped>\n",
       "    .dataframe tbody tr th:only-of-type {\n",
       "        vertical-align: middle;\n",
       "    }\n",
       "\n",
       "    .dataframe tbody tr th {\n",
       "        vertical-align: top;\n",
       "    }\n",
       "\n",
       "    .dataframe thead th {\n",
       "        text-align: right;\n",
       "    }\n",
       "</style>\n",
       "<table border=\"1\" class=\"dataframe\">\n",
       "  <thead>\n",
       "    <tr style=\"text-align: right;\">\n",
       "      <th></th>\n",
       "      <th>Unnamed: 0</th>\n",
       "      <th>TV</th>\n",
       "      <th>radio</th>\n",
       "      <th>newspaper</th>\n",
       "      <th>sales</th>\n",
       "    </tr>\n",
       "  </thead>\n",
       "  <tbody>\n",
       "    <tr>\n",
       "      <th>count</th>\n",
       "      <td>200.000000</td>\n",
       "      <td>200.000000</td>\n",
       "      <td>200.000000</td>\n",
       "      <td>200.000000</td>\n",
       "      <td>200.000000</td>\n",
       "    </tr>\n",
       "    <tr>\n",
       "      <th>mean</th>\n",
       "      <td>100.500000</td>\n",
       "      <td>147.042500</td>\n",
       "      <td>23.264000</td>\n",
       "      <td>30.554000</td>\n",
       "      <td>14.022500</td>\n",
       "    </tr>\n",
       "    <tr>\n",
       "      <th>std</th>\n",
       "      <td>57.879185</td>\n",
       "      <td>85.854236</td>\n",
       "      <td>14.846809</td>\n",
       "      <td>21.778621</td>\n",
       "      <td>5.217457</td>\n",
       "    </tr>\n",
       "    <tr>\n",
       "      <th>min</th>\n",
       "      <td>1.000000</td>\n",
       "      <td>0.700000</td>\n",
       "      <td>0.000000</td>\n",
       "      <td>0.300000</td>\n",
       "      <td>1.600000</td>\n",
       "    </tr>\n",
       "    <tr>\n",
       "      <th>25%</th>\n",
       "      <td>50.750000</td>\n",
       "      <td>74.375000</td>\n",
       "      <td>9.975000</td>\n",
       "      <td>12.750000</td>\n",
       "      <td>10.375000</td>\n",
       "    </tr>\n",
       "    <tr>\n",
       "      <th>50%</th>\n",
       "      <td>100.500000</td>\n",
       "      <td>149.750000</td>\n",
       "      <td>22.900000</td>\n",
       "      <td>25.750000</td>\n",
       "      <td>12.900000</td>\n",
       "    </tr>\n",
       "    <tr>\n",
       "      <th>75%</th>\n",
       "      <td>150.250000</td>\n",
       "      <td>218.825000</td>\n",
       "      <td>36.525000</td>\n",
       "      <td>45.100000</td>\n",
       "      <td>17.400000</td>\n",
       "    </tr>\n",
       "    <tr>\n",
       "      <th>max</th>\n",
       "      <td>200.000000</td>\n",
       "      <td>296.400000</td>\n",
       "      <td>49.600000</td>\n",
       "      <td>114.000000</td>\n",
       "      <td>27.000000</td>\n",
       "    </tr>\n",
       "  </tbody>\n",
       "</table>\n",
       "</div>"
      ],
      "text/plain": [
       "       Unnamed: 0          TV       radio   newspaper       sales\n",
       "count  200.000000  200.000000  200.000000  200.000000  200.000000\n",
       "mean   100.500000  147.042500   23.264000   30.554000   14.022500\n",
       "std     57.879185   85.854236   14.846809   21.778621    5.217457\n",
       "min      1.000000    0.700000    0.000000    0.300000    1.600000\n",
       "25%     50.750000   74.375000    9.975000   12.750000   10.375000\n",
       "50%    100.500000  149.750000   22.900000   25.750000   12.900000\n",
       "75%    150.250000  218.825000   36.525000   45.100000   17.400000\n",
       "max    200.000000  296.400000   49.600000  114.000000   27.000000"
      ]
     },
     "execution_count": 14,
     "metadata": {},
     "output_type": "execute_result"
    }
   ],
   "source": [
    "df.describe(include='all')"
   ]
  },
  {
   "cell_type": "code",
   "execution_count": 15,
   "id": "3e4d0e70",
   "metadata": {},
   "outputs": [
    {
     "name": "stdout",
     "output_type": "stream",
     "text": [
      "<class 'pandas.core.frame.DataFrame'>\n",
      "RangeIndex: 200 entries, 0 to 199\n",
      "Data columns (total 5 columns):\n",
      " #   Column      Non-Null Count  Dtype  \n",
      "---  ------      --------------  -----  \n",
      " 0   Unnamed: 0  200 non-null    int64  \n",
      " 1   TV          200 non-null    float64\n",
      " 2   radio       200 non-null    float64\n",
      " 3   newspaper   200 non-null    float64\n",
      " 4   sales       200 non-null    float64\n",
      "dtypes: float64(4), int64(1)\n",
      "memory usage: 7.9 KB\n"
     ]
    }
   ],
   "source": [
    "df.info()"
   ]
  },
  {
   "cell_type": "code",
   "execution_count": 16,
   "id": "1628553a",
   "metadata": {},
   "outputs": [
    {
     "data": {
      "text/plain": [
       "Unnamed: 0    0\n",
       "TV            0\n",
       "radio         0\n",
       "newspaper     0\n",
       "sales         0\n",
       "dtype: int64"
      ]
     },
     "execution_count": 16,
     "metadata": {},
     "output_type": "execute_result"
    }
   ],
   "source": [
    "df.isnull().sum()"
   ]
  },
  {
   "cell_type": "code",
   "execution_count": 17,
   "id": "f6e61d14",
   "metadata": {},
   "outputs": [
    {
     "data": {
      "text/plain": [
       "(array([  0,   1,   2,   3,   4,   5,   6,   7,   8,   9,  10,  11,  12,\n",
       "         13,  14,  15,  16,  17,  18,  19,  20,  21,  22,  23,  24,  25,\n",
       "         26,  27,  28,  29,  30,  31,  32,  33,  34,  35,  36,  37,  38,\n",
       "         39,  40,  41,  42,  43,  44,  45,  46,  47,  48,  49,  50,  51,\n",
       "         52,  53,  54,  55,  56,  57,  58,  59,  60,  61,  62,  63,  64,\n",
       "         65,  66,  67,  68,  69,  70,  71,  72,  73,  74,  75,  76,  77,\n",
       "         78,  79,  80,  81,  82,  83,  84,  85,  86,  87,  88,  89,  90,\n",
       "         91,  92,  93,  94,  95,  96,  97,  98,  99, 100, 101, 102, 103,\n",
       "        104, 105, 106, 107, 108, 109, 110, 111, 112, 113, 114, 115, 116,\n",
       "        117, 118, 119, 120, 121, 122, 123, 124, 125, 126, 127, 128, 129,\n",
       "        130, 131, 132, 133, 134, 135, 136, 137, 138, 139, 140, 141, 142,\n",
       "        143, 144, 145, 146, 147, 148, 149, 150, 151, 152, 153, 154, 155,\n",
       "        156, 157, 158, 159, 160, 161, 162, 163, 164, 165, 166, 167, 168,\n",
       "        169, 170, 171, 172, 173, 174, 175, 176, 177, 178, 179, 180, 181,\n",
       "        182, 183, 184, 185, 186, 187, 188, 189]),\n",
       " [Text(0, 0, '199.8'),\n",
       "  Text(1, 0, '109.8'),\n",
       "  Text(2, 0, '17.2'),\n",
       "  Text(3, 0, '177.0'),\n",
       "  Text(4, 0, '222.4'),\n",
       "  Text(5, 0, '240.1'),\n",
       "  Text(6, 0, '184.9'),\n",
       "  Text(7, 0, '197.6'),\n",
       "  Text(8, 0, '237.4'),\n",
       "  Text(9, 0, '76.4'),\n",
       "  Text(10, 0, '8.4'),\n",
       "  Text(11, 0, '265.2'),\n",
       "  Text(12, 0, '230.1'),\n",
       "  Text(13, 0, '0.7'),\n",
       "  Text(14, 0, '36.9'),\n",
       "  Text(15, 0, '59.6'),\n",
       "  Text(16, 0, '220.3'),\n",
       "  Text(17, 0, '219.8'),\n",
       "  Text(18, 0, '25.6'),\n",
       "  Text(19, 0, '48.3'),\n",
       "  Text(20, 0, '7.8'),\n",
       "  Text(21, 0, '273.7'),\n",
       "  Text(22, 0, '43.0'),\n",
       "  Text(23, 0, '73.4'),\n",
       "  Text(24, 0, '193.7'),\n",
       "  Text(25, 0, '220.5'),\n",
       "  Text(26, 0, '104.6'),\n",
       "  Text(27, 0, '96.2'),\n",
       "  Text(28, 0, '140.3'),\n",
       "  Text(29, 0, '80.2'),\n",
       "  Text(30, 0, '123.1'),\n",
       "  Text(31, 0, '87.2'),\n",
       "  Text(32, 0, '209.6'),\n",
       "  Text(33, 0, '137.9'),\n",
       "  Text(34, 0, '25.0'),\n",
       "  Text(35, 0, '90.4'),\n",
       "  Text(36, 0, '13.1'),\n",
       "  Text(37, 0, '255.4'),\n",
       "  Text(38, 0, '225.8'),\n",
       "  Text(39, 0, '241.7'),\n",
       "  Text(40, 0, '175.7'),\n",
       "  Text(41, 0, '78.2'),\n",
       "  Text(42, 0, '229.5'),\n",
       "  Text(43, 0, '75.1'),\n",
       "  Text(44, 0, '139.2'),\n",
       "  Text(45, 0, '125.7'),\n",
       "  Text(46, 0, '19.4'),\n",
       "  Text(47, 0, '141.3'),\n",
       "  Text(48, 0, '18.8'),\n",
       "  Text(49, 0, '224.0'),\n",
       "  Text(50, 0, '38.0'),\n",
       "  Text(51, 0, '243.2'),\n",
       "  Text(52, 0, '121.0'),\n",
       "  Text(53, 0, '44.7'),\n",
       "  Text(54, 0, '139.5'),\n",
       "  Text(55, 0, '170.2'),\n",
       "  Text(56, 0, '276.7'),\n",
       "  Text(57, 0, '165.6'),\n",
       "  Text(58, 0, '156.6'),\n",
       "  Text(59, 0, '218.5'),\n",
       "  Text(60, 0, '56.2'),\n",
       "  Text(61, 0, '287.6'),\n",
       "  Text(62, 0, '253.8'),\n",
       "  Text(63, 0, '205.0'),\n",
       "  Text(64, 0, '191.1'),\n",
       "  Text(65, 0, '276.9'),\n",
       "  Text(66, 0, '286.0'),\n",
       "  Text(67, 0, '18.7'),\n",
       "  Text(68, 0, '39.5'),\n",
       "  Text(69, 0, '75.5'),\n",
       "  Text(70, 0, '166.8'),\n",
       "  Text(71, 0, '149.7'),\n",
       "  Text(72, 0, '38.2'),\n",
       "  Text(73, 0, '94.2'),\n",
       "  Text(74, 0, '283.6'),\n",
       "  Text(75, 0, '248.4'),\n",
       "  Text(76, 0, '168.4'),\n",
       "  Text(77, 0, '280.7'),\n",
       "  Text(78, 0, '85.7'),\n",
       "  Text(79, 0, '187.9'),\n",
       "  Text(80, 0, '171.3'),\n",
       "  Text(81, 0, '187.8'),\n",
       "  Text(82, 0, '4.1'),\n",
       "  Text(83, 0, '93.9'),\n",
       "  Text(84, 0, '149.8'),\n",
       "  Text(85, 0, '11.7'),\n",
       "  Text(86, 0, '131.7'),\n",
       "  Text(87, 0, '172.5'),\n",
       "  Text(88, 0, '188.4'),\n",
       "  Text(89, 0, '19.6'),\n",
       "  Text(90, 0, '163.5'),\n",
       "  Text(91, 0, '117.2'),\n",
       "  Text(92, 0, '234.5'),\n",
       "  Text(93, 0, '17.9'),\n",
       "  Text(94, 0, '206.8'),\n",
       "  Text(95, 0, '215.4'),\n",
       "  Text(96, 0, '284.3'),\n",
       "  Text(97, 0, '50.0'),\n",
       "  Text(98, 0, '164.5'),\n",
       "  Text(99, 0, '238.2'),\n",
       "  Text(100, 0, '289.7'),\n",
       "  Text(101, 0, '280.2'),\n",
       "  Text(102, 0, '66.9'),\n",
       "  Text(103, 0, '248.8'),\n",
       "  Text(104, 0, '70.6'),\n",
       "  Text(105, 0, '292.9'),\n",
       "  Text(106, 0, '112.9'),\n",
       "  Text(107, 0, '97.2'),\n",
       "  Text(108, 0, '265.6'),\n",
       "  Text(109, 0, '95.7'),\n",
       "  Text(110, 0, '290.7'),\n",
       "  Text(111, 0, '266.9'),\n",
       "  Text(112, 0, '74.7'),\n",
       "  Text(113, 0, '43.1'),\n",
       "  Text(114, 0, '228.0'),\n",
       "  Text(115, 0, '202.5'),\n",
       "  Text(116, 0, '293.6'),\n",
       "  Text(117, 0, '206.9'),\n",
       "  Text(118, 0, '25.1'),\n",
       "  Text(119, 0, '175.1'),\n",
       "  Text(120, 0, '89.7'),\n",
       "  Text(121, 0, '239.9'),\n",
       "  Text(122, 0, '142.9'),\n",
       "  Text(123, 0, '262.9'),\n",
       "  Text(124, 0, '62.3'),\n",
       "  Text(125, 0, '23.8'),\n",
       "  Text(126, 0, '151.5'),\n",
       "  Text(127, 0, '180.8'),\n",
       "  Text(128, 0, '8.7'),\n",
       "  Text(129, 0, '57.5'),\n",
       "  Text(130, 0, '120.2'),\n",
       "  Text(131, 0, '8.6'),\n",
       "  Text(132, 0, '66.1'),\n",
       "  Text(133, 0, '214.7'),\n",
       "  Text(134, 0, '97.5'),\n",
       "  Text(135, 0, '228.3'),\n",
       "  Text(136, 0, '204.1'),\n",
       "  Text(137, 0, '195.4'),\n",
       "  Text(138, 0, '67.8'),\n",
       "  Text(139, 0, '281.4'),\n",
       "  Text(140, 0, '69.2'),\n",
       "  Text(141, 0, '147.3'),\n",
       "  Text(142, 0, '218.4'),\n",
       "  Text(143, 0, '13.2'),\n",
       "  Text(144, 0, '227.2'),\n",
       "  Text(145, 0, '100.4'),\n",
       "  Text(146, 0, '296.4'),\n",
       "  Text(147, 0, '216.4'),\n",
       "  Text(148, 0, '120.5'),\n",
       "  Text(149, 0, '5.4'),\n",
       "  Text(150, 0, '116.0'),\n",
       "  Text(151, 0, '239.8'),\n",
       "  Text(152, 0, '75.3'),\n",
       "  Text(153, 0, '68.4'),\n",
       "  Text(154, 0, '213.5'),\n",
       "  Text(155, 0, '193.2'),\n",
       "  Text(156, 0, '76.3'),\n",
       "  Text(157, 0, '110.7'),\n",
       "  Text(158, 0, '88.3'),\n",
       "  Text(159, 0, '134.3'),\n",
       "  Text(160, 0, '28.6'),\n",
       "  Text(161, 0, '217.7'),\n",
       "  Text(162, 0, '250.9'),\n",
       "  Text(163, 0, '107.4'),\n",
       "  Text(164, 0, '163.3'),\n",
       "  Text(165, 0, '44.5'),\n",
       "  Text(166, 0, '135.2'),\n",
       "  Text(167, 0, '27.5'),\n",
       "  Text(168, 0, '16.9'),\n",
       "  Text(169, 0, '213.4'),\n",
       "  Text(170, 0, '261.3'),\n",
       "  Text(171, 0, '182.6'),\n",
       "  Text(172, 0, '262.7'),\n",
       "  Text(173, 0, '198.9'),\n",
       "  Text(174, 0, '7.3'),\n",
       "  Text(175, 0, '136.2'),\n",
       "  Text(176, 0, '210.8'),\n",
       "  Text(177, 0, '210.7'),\n",
       "  Text(178, 0, '53.5'),\n",
       "  Text(179, 0, '239.3'),\n",
       "  Text(180, 0, '129.4'),\n",
       "  Text(181, 0, '102.7'),\n",
       "  Text(182, 0, '131.1'),\n",
       "  Text(183, 0, '69.0'),\n",
       "  Text(184, 0, '31.5'),\n",
       "  Text(185, 0, '139.3'),\n",
       "  Text(186, 0, '216.8'),\n",
       "  Text(187, 0, '199.1'),\n",
       "  Text(188, 0, '26.8'),\n",
       "  Text(189, 0, '232.1')])"
      ]
     },
     "execution_count": 17,
     "metadata": {},
     "output_type": "execute_result"
    },
    {
     "data": {
      "image/png": "[encoded data removed]",
      "text/plain": [
       "<Figure size 720x576 with 1 Axes>"
      ]
     },
     "metadata": {
      "needs_background": "light"
     },
     "output_type": "display_data"
    }
   ],
   "source": [
    "plt.subplot()\n",
    "df['TV'].value_counts().plot(kind='bar' , title='TV Channel',figsize=(10,8))\n",
    "plt.xticks(rotation=0)"
   ]
  },
  {
   "cell_type": "code",
   "execution_count": 18,
   "id": "e16cf32f",
   "metadata": {},
   "outputs": [
    {
     "data": {
      "text/plain": [
       "(array([  0,   1,   2,   3,   4,   5,   6,   7,   8,   9,  10,  11,  12,\n",
       "         13,  14,  15,  16,  17,  18,  19,  20,  21,  22,  23,  24,  25,\n",
       "         26,  27,  28,  29,  30,  31,  32,  33,  34,  35,  36,  37,  38,\n",
       "         39,  40,  41,  42,  43,  44,  45,  46,  47,  48,  49,  50,  51,\n",
       "         52,  53,  54,  55,  56,  57,  58,  59,  60,  61,  62,  63,  64,\n",
       "         65,  66,  67,  68,  69,  70,  71,  72,  73,  74,  75,  76,  77,\n",
       "         78,  79,  80,  81,  82,  83,  84,  85,  86,  87,  88,  89,  90,\n",
       "         91,  92,  93,  94,  95,  96,  97,  98,  99, 100, 101, 102, 103,\n",
       "        104, 105, 106, 107, 108, 109, 110, 111, 112, 113, 114, 115, 116,\n",
       "        117, 118, 119, 120, 121, 122, 123, 124, 125, 126, 127, 128, 129,\n",
       "        130, 131, 132, 133, 134, 135, 136, 137, 138, 139, 140, 141, 142,\n",
       "        143, 144, 145, 146, 147, 148, 149, 150, 151, 152, 153, 154, 155,\n",
       "        156, 157, 158, 159, 160, 161, 162, 163, 164, 165, 166]),\n",
       " [Text(0, 0, '4.1'),\n",
       "  Text(1, 0, '5.7'),\n",
       "  Text(2, 0, '13.9'),\n",
       "  Text(3, 0, '14.3'),\n",
       "  Text(4, 0, '36.9'),\n",
       "  Text(5, 0, '18.4'),\n",
       "  Text(6, 0, '43.0'),\n",
       "  Text(7, 0, '43.9'),\n",
       "  Text(8, 0, '3.5'),\n",
       "  Text(9, 0, '49.0'),\n",
       "  Text(10, 0, '8.4'),\n",
       "  Text(11, 0, '26.7'),\n",
       "  Text(12, 0, '16.0'),\n",
       "  Text(13, 0, '3.4'),\n",
       "  Text(14, 0, '11.6'),\n",
       "  Text(15, 0, '1.5'),\n",
       "  Text(16, 0, '18.1'),\n",
       "  Text(17, 0, '27.7'),\n",
       "  Text(18, 0, '49.4'),\n",
       "  Text(19, 0, '27.5'),\n",
       "  Text(20, 0, '41.7'),\n",
       "  Text(21, 0, '10.8'),\n",
       "  Text(22, 0, '48.9'),\n",
       "  Text(23, 0, '42.0'),\n",
       "  Text(24, 0, '2.1'),\n",
       "  Text(25, 0, '39.6'),\n",
       "  Text(26, 0, '2.6'),\n",
       "  Text(27, 0, '9.3'),\n",
       "  Text(28, 0, '24.6'),\n",
       "  Text(29, 0, '33.5'),\n",
       "  Text(30, 0, '4.9'),\n",
       "  Text(31, 0, '2.9'),\n",
       "  Text(32, 0, '27.2'),\n",
       "  Text(33, 0, '12.0'),\n",
       "  Text(34, 0, '0.0'),\n",
       "  Text(35, 0, '38.6'),\n",
       "  Text(36, 0, '47.0'),\n",
       "  Text(37, 0, '37.8'),\n",
       "  Text(38, 0, '34.6'),\n",
       "  Text(39, 0, '38.9'),\n",
       "  Text(40, 0, '11.8'),\n",
       "  Text(41, 0, '0.3'),\n",
       "  Text(42, 0, '0.4'),\n",
       "  Text(43, 0, '26.9'),\n",
       "  Text(44, 0, '8.2'),\n",
       "  Text(45, 0, '38.0'),\n",
       "  Text(46, 0, '15.4'),\n",
       "  Text(47, 0, '20.6'),\n",
       "  Text(48, 0, '46.8'),\n",
       "  Text(49, 0, '35.0'),\n",
       "  Text(50, 0, '0.8'),\n",
       "  Text(51, 0, '26.8'),\n",
       "  Text(52, 0, '21.7'),\n",
       "  Text(53, 0, '2.4'),\n",
       "  Text(54, 0, '28.9'),\n",
       "  Text(55, 0, '32.3'),\n",
       "  Text(56, 0, '39.0'),\n",
       "  Text(57, 0, '25.8'),\n",
       "  Text(58, 0, '25.9'),\n",
       "  Text(59, 0, '23.6'),\n",
       "  Text(60, 0, '20.9'),\n",
       "  Text(61, 0, '20.1'),\n",
       "  Text(62, 0, '7.1'),\n",
       "  Text(63, 0, '30.2'),\n",
       "  Text(64, 0, '7.8'),\n",
       "  Text(65, 0, '2.3'),\n",
       "  Text(66, 0, '10.0'),\n",
       "  Text(67, 0, '5.4'),\n",
       "  Text(68, 0, '21.3'),\n",
       "  Text(69, 0, '45.1'),\n",
       "  Text(70, 0, '28.7'),\n",
       "  Text(71, 0, '12.1'),\n",
       "  Text(72, 0, '41.1'),\n",
       "  Text(73, 0, '35.6'),\n",
       "  Text(74, 0, '3.7'),\n",
       "  Text(75, 0, '10.6'),\n",
       "  Text(76, 0, '5.2'),\n",
       "  Text(77, 0, '17.0'),\n",
       "  Text(78, 0, '37.6'),\n",
       "  Text(79, 0, '35.4'),\n",
       "  Text(80, 0, '33.2'),\n",
       "  Text(81, 0, '14.8'),\n",
       "  Text(82, 0, '1.9'),\n",
       "  Text(83, 0, '7.3'),\n",
       "  Text(84, 0, '40.3'),\n",
       "  Text(85, 0, '46.4'),\n",
       "  Text(86, 0, '23.3'),\n",
       "  Text(87, 0, '39.7'),\n",
       "  Text(88, 0, '21.1'),\n",
       "  Text(89, 0, '43.5'),\n",
       "  Text(90, 0, '1.3'),\n",
       "  Text(91, 0, '35.8'),\n",
       "  Text(92, 0, '36.8'),\n",
       "  Text(93, 0, '14.7'),\n",
       "  Text(94, 0, '11.0'),\n",
       "  Text(95, 0, '47.8'),\n",
       "  Text(96, 0, '34.3'),\n",
       "  Text(97, 0, '43.8'),\n",
       "  Text(98, 0, '16.7'),\n",
       "  Text(99, 0, '27.1'),\n",
       "  Text(100, 0, '28.3'),\n",
       "  Text(101, 0, '17.4'),\n",
       "  Text(102, 0, '20.0'),\n",
       "  Text(103, 0, '1.4'),\n",
       "  Text(104, 0, '37.7'),\n",
       "  Text(105, 0, '12.6'),\n",
       "  Text(106, 0, '22.3'),\n",
       "  Text(107, 0, '33.4'),\n",
       "  Text(108, 0, '25.7'),\n",
       "  Text(109, 0, '22.5'),\n",
       "  Text(110, 0, '9.9'),\n",
       "  Text(111, 0, '41.5'),\n",
       "  Text(112, 0, '29.3'),\n",
       "  Text(113, 0, '16.9'),\n",
       "  Text(114, 0, '11.7'),\n",
       "  Text(115, 0, '35.1'),\n",
       "  Text(116, 0, '45.9'),\n",
       "  Text(117, 0, '41.3'),\n",
       "  Text(118, 0, '32.8'),\n",
       "  Text(119, 0, '19.6'),\n",
       "  Text(120, 0, '5.8'),\n",
       "  Text(121, 0, '24.0'),\n",
       "  Text(122, 0, '7.6'),\n",
       "  Text(123, 0, '15.9'),\n",
       "  Text(124, 0, '32.9'),\n",
       "  Text(125, 0, '47.7'),\n",
       "  Text(126, 0, '36.6'),\n",
       "  Text(127, 0, '20.5'),\n",
       "  Text(128, 0, '23.9'),\n",
       "  Text(129, 0, '5.1'),\n",
       "  Text(130, 0, '15.8'),\n",
       "  Text(131, 0, '3.1'),\n",
       "  Text(132, 0, '17.2'),\n",
       "  Text(133, 0, '36.5'),\n",
       "  Text(134, 0, '7.7'),\n",
       "  Text(135, 0, '20.3'),\n",
       "  Text(136, 0, '44.5'),\n",
       "  Text(137, 0, '40.6'),\n",
       "  Text(138, 0, '25.5'),\n",
       "  Text(139, 0, '39.3'),\n",
       "  Text(140, 0, '14.0'),\n",
       "  Text(141, 0, '28.5'),\n",
       "  Text(142, 0, '31.6'),\n",
       "  Text(143, 0, '21.0'),\n",
       "  Text(144, 0, '42.3'),\n",
       "  Text(145, 0, '4.3'),\n",
       "  Text(146, 0, '36.3'),\n",
       "  Text(147, 0, '10.1'),\n",
       "  Text(148, 0, '29.9'),\n",
       "  Text(149, 0, '1.6'),\n",
       "  Text(150, 0, '9.6'),\n",
       "  Text(151, 0, '2.0'),\n",
       "  Text(152, 0, '46.2'),\n",
       "  Text(153, 0, '28.8'),\n",
       "  Text(154, 0, '28.1'),\n",
       "  Text(155, 0, '19.2'),\n",
       "  Text(156, 0, '49.6'),\n",
       "  Text(157, 0, '29.5'),\n",
       "  Text(158, 0, '42.7'),\n",
       "  Text(159, 0, '43.7'),\n",
       "  Text(160, 0, '15.5'),\n",
       "  Text(161, 0, '29.6'),\n",
       "  Text(162, 0, '42.8'),\n",
       "  Text(163, 0, '14.5'),\n",
       "  Text(164, 0, '30.6'),\n",
       "  Text(165, 0, '33.0'),\n",
       "  Text(166, 0, '8.6')])"
      ]
     },
     "execution_count": 18,
     "metadata": {},
     "output_type": "execute_result"
    },
    {
     "data": {
      "image/png": "[encoded data removed]",
      "text/plain": [
       "<Figure size 720x576 with 1 Axes>"
      ]
     },
     "metadata": {
      "needs_background": "light"
     },
     "output_type": "display_data"
    }
   ],
   "source": [
    "plt.subplot()\n",
    "df['radio'].value_counts().plot(kind='bar' , title='Radio Channel' , figsize=(10,8))\n",
    "plt.xticks(rotation=0)"
   ]
  },
  {
   "cell_type": "code",
   "execution_count": 19,
   "id": "2e2625a6",
   "metadata": {},
   "outputs": [
    {
     "data": {
      "text/plain": [
       "(array([  0,   1,   2,   3,   4,   5,   6,   7,   8,   9,  10,  11,  12,\n",
       "         13,  14,  15,  16,  17,  18,  19,  20,  21,  22,  23,  24,  25,\n",
       "         26,  27,  28,  29,  30,  31,  32,  33,  34,  35,  36,  37,  38,\n",
       "         39,  40,  41,  42,  43,  44,  45,  46,  47,  48,  49,  50,  51,\n",
       "         52,  53,  54,  55,  56,  57,  58,  59,  60,  61,  62,  63,  64,\n",
       "         65,  66,  67,  68,  69,  70,  71,  72,  73,  74,  75,  76,  77,\n",
       "         78,  79,  80,  81,  82,  83,  84,  85,  86,  87,  88,  89,  90,\n",
       "         91,  92,  93,  94,  95,  96,  97,  98,  99, 100, 101, 102, 103,\n",
       "        104, 105, 106, 107, 108, 109, 110, 111, 112, 113, 114, 115, 116,\n",
       "        117, 118, 119, 120, 121, 122, 123, 124, 125, 126, 127, 128, 129,\n",
       "        130, 131, 132, 133, 134, 135, 136, 137, 138, 139, 140, 141, 142,\n",
       "        143, 144, 145, 146, 147, 148, 149, 150, 151, 152, 153, 154, 155,\n",
       "        156, 157, 158, 159, 160, 161, 162, 163, 164, 165, 166, 167, 168,\n",
       "        169, 170, 171]),\n",
       " [Text(0, 0, '9.3'),\n",
       "  Text(1, 0, '25.6'),\n",
       "  Text(2, 0, '8.7'),\n",
       "  Text(3, 0, '34.6'),\n",
       "  Text(4, 0, '8.5'),\n",
       "  Text(5, 0, '22.9'),\n",
       "  Text(6, 0, '6.4'),\n",
       "  Text(7, 0, '14.2'),\n",
       "  Text(8, 0, '30.0'),\n",
       "  Text(9, 0, '7.4'),\n",
       "  Text(10, 0, '31.6'),\n",
       "  Text(11, 0, '13.1'),\n",
       "  Text(12, 0, '18.3'),\n",
       "  Text(13, 0, '38.7'),\n",
       "  Text(14, 0, '3.6'),\n",
       "  Text(15, 0, '21.4'),\n",
       "  Text(16, 0, '22.3'),\n",
       "  Text(17, 0, '37.7'),\n",
       "  Text(18, 0, '29.7'),\n",
       "  Text(19, 0, '23.2'),\n",
       "  Text(20, 0, '23.5'),\n",
       "  Text(21, 0, '6.0'),\n",
       "  Text(22, 0, '52.9'),\n",
       "  Text(23, 0, '59.0'),\n",
       "  Text(24, 0, '45.1'),\n",
       "  Text(25, 0, '79.2'),\n",
       "  Text(26, 0, '65.6'),\n",
       "  Text(27, 0, '43.0'),\n",
       "  Text(28, 0, '2.1'),\n",
       "  Text(29, 0, '1.7'),\n",
       "  Text(30, 0, '59.7'),\n",
       "  Text(31, 0, '20.5'),\n",
       "  Text(32, 0, '56.5'),\n",
       "  Text(33, 0, '12.9'),\n",
       "  Text(34, 0, '75.6'),\n",
       "  Text(35, 0, '37.9'),\n",
       "  Text(36, 0, '5.5'),\n",
       "  Text(37, 0, '3.2'),\n",
       "  Text(38, 0, '43.1'),\n",
       "  Text(39, 0, '46.2'),\n",
       "  Text(40, 0, '2.4'),\n",
       "  Text(41, 0, '9.2'),\n",
       "  Text(42, 0, '50.6'),\n",
       "  Text(43, 0, '10.7'),\n",
       "  Text(44, 0, '34.5'),\n",
       "  Text(45, 0, '52.7'),\n",
       "  Text(46, 0, '34.4'),\n",
       "  Text(47, 0, '74.2'),\n",
       "  Text(48, 0, '14.8'),\n",
       "  Text(49, 0, '12.4'),\n",
       "  Text(50, 0, '15.6'),\n",
       "  Text(51, 0, '50.4'),\n",
       "  Text(52, 0, '25.9'),\n",
       "  Text(53, 0, '69.2'),\n",
       "  Text(54, 0, '38.9'),\n",
       "  Text(55, 0, '47.4'),\n",
       "  Text(56, 0, '12.8'),\n",
       "  Text(57, 0, '41.8'),\n",
       "  Text(58, 0, '20.3'),\n",
       "  Text(59, 0, '35.2'),\n",
       "  Text(60, 0, '23.7'),\n",
       "  Text(61, 0, '17.6'),\n",
       "  Text(62, 0, '8.3'),\n",
       "  Text(63, 0, '27.4'),\n",
       "  Text(64, 0, '71.8'),\n",
       "  Text(65, 0, '19.6'),\n",
       "  Text(66, 0, '26.6'),\n",
       "  Text(67, 0, '18.2'),\n",
       "  Text(68, 0, '3.7'),\n",
       "  Text(69, 0, '23.4'),\n",
       "  Text(70, 0, '5.8'),\n",
       "  Text(71, 0, '13.8'),\n",
       "  Text(72, 0, '8.1'),\n",
       "  Text(73, 0, '17.0'),\n",
       "  Text(74, 0, '18.4'),\n",
       "  Text(75, 0, '9.0'),\n",
       "  Text(76, 0, '57.6'),\n",
       "  Text(77, 0, '44.3'),\n",
       "  Text(78, 0, '11.9'),\n",
       "  Text(79, 0, '20.6'),\n",
       "  Text(80, 0, '17.9'),\n",
       "  Text(81, 0, '37.0'),\n",
       "  Text(82, 0, '48.7'),\n",
       "  Text(83, 0, '9.5'),\n",
       "  Text(84, 0, '5.7'),\n",
       "  Text(85, 0, '50.5'),\n",
       "  Text(86, 0, '24.3'),\n",
       "  Text(87, 0, '45.2'),\n",
       "  Text(88, 0, '30.7'),\n",
       "  Text(89, 0, '49.3'),\n",
       "  Text(90, 0, '5.4'),\n",
       "  Text(91, 0, '84.8'),\n",
       "  Text(92, 0, '21.6'),\n",
       "  Text(93, 0, '19.4'),\n",
       "  Text(94, 0, '5.3'),\n",
       "  Text(95, 0, '33.0'),\n",
       "  Text(96, 0, '100.9'),\n",
       "  Text(97, 0, '35.1'),\n",
       "  Text(98, 0, '12.6'),\n",
       "  Text(99, 0, '40.8'),\n",
       "  Text(100, 0, '43.2'),\n",
       "  Text(101, 0, '38.6'),\n",
       "  Text(102, 0, '0.3'),\n",
       "  Text(103, 0, '5.0'),\n",
       "  Text(104, 0, '45.7'),\n",
       "  Text(105, 0, '32.0'),\n",
       "  Text(106, 0, '49.8'),\n",
       "  Text(107, 0, '1.8'),\n",
       "  Text(108, 0, '26.4'),\n",
       "  Text(109, 0, '43.3'),\n",
       "  Text(110, 0, '31.5'),\n",
       "  Text(111, 0, '35.7'),\n",
       "  Text(112, 0, '18.5'),\n",
       "  Text(113, 0, '49.9'),\n",
       "  Text(114, 0, '19.5'),\n",
       "  Text(115, 0, '26.2'),\n",
       "  Text(116, 0, '49.6'),\n",
       "  Text(117, 0, '53.4'),\n",
       "  Text(118, 0, '69.3'),\n",
       "  Text(119, 0, '58.5'),\n",
       "  Text(120, 0, '58.4'),\n",
       "  Text(121, 0, '75.0'),\n",
       "  Text(122, 0, '11.6'),\n",
       "  Text(123, 0, '1.0'),\n",
       "  Text(124, 0, '21.2'),\n",
       "  Text(125, 0, '24.2'),\n",
       "  Text(126, 0, '4.0'),\n",
       "  Text(127, 0, '65.9'),\n",
       "  Text(128, 0, '7.2'),\n",
       "  Text(129, 0, '46.0'),\n",
       "  Text(130, 0, '114.0'),\n",
       "  Text(131, 0, '55.8'),\n",
       "  Text(132, 0, '19.1'),\n",
       "  Text(133, 0, '36.8'),\n",
       "  Text(134, 0, '39.6'),\n",
       "  Text(135, 0, '58.7'),\n",
       "  Text(136, 0, '9.4'),\n",
       "  Text(137, 0, '36.9'),\n",
       "  Text(138, 0, '32.5'),\n",
       "  Text(139, 0, '35.6'),\n",
       "  Text(140, 0, '33.8'),\n",
       "  Text(141, 0, '65.7'),\n",
       "  Text(142, 0, '16.0'),\n",
       "  Text(143, 0, '63.2'),\n",
       "  Text(144, 0, '73.4'),\n",
       "  Text(145, 0, '51.4'),\n",
       "  Text(146, 0, '72.3'),\n",
       "  Text(147, 0, '10.9'),\n",
       "  Text(148, 0, '5.9'),\n",
       "  Text(149, 0, '22.0'),\n",
       "  Text(150, 0, '51.2'),\n",
       "  Text(151, 0, '45.9'),\n",
       "  Text(152, 0, '23.1'),\n",
       "  Text(153, 0, '20.7'),\n",
       "  Text(154, 0, '15.9'),\n",
       "  Text(155, 0, '89.4'),\n",
       "  Text(156, 0, '60.0'),\n",
       "  Text(157, 0, '41.4'),\n",
       "  Text(158, 0, '16.6'),\n",
       "  Text(159, 0, '54.7'),\n",
       "  Text(160, 0, '27.3'),\n",
       "  Text(161, 0, '8.4'),\n",
       "  Text(162, 0, '28.9'),\n",
       "  Text(163, 0, '0.9'),\n",
       "  Text(164, 0, '2.2'),\n",
       "  Text(165, 0, '10.2'),\n",
       "  Text(166, 0, '11.0'),\n",
       "  Text(167, 0, '27.2'),\n",
       "  Text(168, 0, '31.7'),\n",
       "  Text(169, 0, '19.3'),\n",
       "  Text(170, 0, '31.3'),\n",
       "  Text(171, 0, '66.2')])"
      ]
     },
     "execution_count": 19,
     "metadata": {},
     "output_type": "execute_result"
    },
    {
     "data": {
      "image/png": "[encoded data removed]",
      "text/plain": [
       "<Figure size 720x576 with 1 Axes>"
      ]
     },
     "metadata": {
      "needs_background": "light"
     },
     "output_type": "display_data"
    }
   ],
   "source": [
    "plt.subplot()\n",
    "df['newspaper'].value_counts().plot(kind='bar' , title='Newspaper Channel' , figsize=(10,8))\n",
    "plt.xticks(rotation=0)"
   ]
  },
  {
   "cell_type": "code",
   "execution_count": 20,
   "id": "f7be9c8a",
   "metadata": {},
   "outputs": [
    {
     "data": {
      "text/plain": [
       "<AxesSubplot:>"
      ]
     },
     "execution_count": 20,
     "metadata": {},
     "output_type": "execute_result"
    },
    {
     "data": {
      "image/png": "[encoded data removed]",
      "text/plain": [
       "<Figure size 432x288 with 1 Axes>"
      ]
     },
     "metadata": {
      "needs_background": "light"
     },
     "output_type": "display_data"
    }
   ],
   "source": [
    "df.boxplot()"
   ]
  },
  {
   "cell_type": "code",
   "execution_count": 21,
   "id": "1794040f",
   "metadata": {},
   "outputs": [
    {
     "data": {
      "text/plain": [
       "<AxesSubplot:xlabel='sales', ylabel='Density'>"
      ]
     },
     "execution_count": 21,
     "metadata": {},
     "output_type": "execute_result"
    },
    {
     "data": {
      "image/png": "[encoded data removed]",
      "text/plain": [
       "<Figure size 432x288 with 1 Axes>"
      ]
     },
     "metadata": {
      "needs_background": "light"
     },
     "output_type": "display_data"
    }
   ],
   "source": [
    "sns.distplot(df['sales'])"
   ]
  },
  {
   "cell_type": "code",
   "execution_count": 22,
   "id": "4315d061",
   "metadata": {},
   "outputs": [
    {
     "data": {
      "text/plain": [
       "<AxesSubplot:xlabel='newspaper', ylabel='Density'>"
      ]
     },
     "execution_count": 22,
     "metadata": {},
     "output_type": "execute_result"
    },
    {
     "data": {
      "image/png": "[encoded data removed]",
      "text/plain": [
       "<Figure size 432x288 with 1 Axes>"
      ]
     },
     "metadata": {
      "needs_background": "light"
     },
     "output_type": "display_data"
    }
   ],
   "source": [
    "sns.distplot(df['newspaper'])"
   ]
  },
  {
   "cell_type": "code",
   "execution_count": 23,
   "id": "feaf5644",
   "metadata": {},
   "outputs": [
    {
     "data": {
      "text/plain": [
       "<AxesSubplot:xlabel='radio', ylabel='Density'>"
      ]
     },
     "execution_count": 23,
     "metadata": {},
     "output_type": "execute_result"
    },
    {
     "data": {
      "image/png": "[encoded data removed]",
      "text/plain": [
       "<Figure size 432x288 with 1 Axes>"
      ]
     },
     "metadata": {
      "needs_background": "light"
     },
     "output_type": "display_data"
    }
   ],
   "source": [
    "sns.distplot(df['radio'])"
   ]
  },
  {
   "cell_type": "code",
   "execution_count": 24,
   "id": "642501c0",
   "metadata": {},
   "outputs": [
    {
     "data": {
      "text/plain": [
       "<AxesSubplot:xlabel='TV', ylabel='Density'>"
      ]
     },
     "execution_count": 24,
     "metadata": {},
     "output_type": "execute_result"
    },
    {
     "data": {
      "image/png": "[encoded data removed]",
      "text/plain": [
       "<Figure size 432x288 with 1 Axes>"
      ]
     },
     "metadata": {
      "needs_background": "light"
     },
     "output_type": "display_data"
    }
   ],
   "source": [
    "sns.distplot(df['TV'])"
   ]
  },
  {
   "cell_type": "code",
   "execution_count": 25,
   "id": "8a6399bd",
   "metadata": {},
   "outputs": [],
   "source": [
    "corr= df.corr()"
   ]
  },
  {
   "cell_type": "code",
   "execution_count": 26,
   "id": "b40bf0c6",
   "metadata": {},
   "outputs": [
    {
     "data": {
      "text/html": [
       "<div>\n",
       "<style scoped>\n",
       "    .dataframe tbody tr th:only-of-type {\n",
       "        vertical-align: middle;\n",
       "    }\n",
       "\n",
       "    .dataframe tbody tr th {\n",
       "        vertical-align: top;\n",
       "    }\n",
       "\n",
       "    .dataframe thead th {\n",
       "        text-align: right;\n",
       "    }\n",
       "</style>\n",
       "<table border=\"1\" class=\"dataframe\">\n",
       "  <thead>\n",
       "    <tr style=\"text-align: right;\">\n",
       "      <th></th>\n",
       "      <th>Unnamed: 0</th>\n",
       "      <th>TV</th>\n",
       "      <th>radio</th>\n",
       "      <th>newspaper</th>\n",
       "      <th>sales</th>\n",
       "    </tr>\n",
       "  </thead>\n",
       "  <tbody>\n",
       "    <tr>\n",
       "      <th>Unnamed: 0</th>\n",
       "      <td>1.000000</td>\n",
       "      <td>0.017715</td>\n",
       "      <td>-0.110680</td>\n",
       "      <td>-0.154944</td>\n",
       "      <td>-0.051616</td>\n",
       "    </tr>\n",
       "    <tr>\n",
       "      <th>TV</th>\n",
       "      <td>0.017715</td>\n",
       "      <td>1.000000</td>\n",
       "      <td>0.054809</td>\n",
       "      <td>0.056648</td>\n",
       "      <td>0.782224</td>\n",
       "    </tr>\n",
       "    <tr>\n",
       "      <th>radio</th>\n",
       "      <td>-0.110680</td>\n",
       "      <td>0.054809</td>\n",
       "      <td>1.000000</td>\n",
       "      <td>0.354104</td>\n",
       "      <td>0.576223</td>\n",
       "    </tr>\n",
       "    <tr>\n",
       "      <th>newspaper</th>\n",
       "      <td>-0.154944</td>\n",
       "      <td>0.056648</td>\n",
       "      <td>0.354104</td>\n",
       "      <td>1.000000</td>\n",
       "      <td>0.228299</td>\n",
       "    </tr>\n",
       "    <tr>\n",
       "      <th>sales</th>\n",
       "      <td>-0.051616</td>\n",
       "      <td>0.782224</td>\n",
       "      <td>0.576223</td>\n",
       "      <td>0.228299</td>\n",
       "      <td>1.000000</td>\n",
       "    </tr>\n",
       "  </tbody>\n",
       "</table>\n",
       "</div>"
      ],
      "text/plain": [
       "            Unnamed: 0        TV     radio  newspaper     sales\n",
       "Unnamed: 0    1.000000  0.017715 -0.110680  -0.154944 -0.051616\n",
       "TV            0.017715  1.000000  0.054809   0.056648  0.782224\n",
       "radio        -0.110680  0.054809  1.000000   0.354104  0.576223\n",
       "newspaper    -0.154944  0.056648  0.354104   1.000000  0.228299\n",
       "sales        -0.051616  0.782224  0.576223   0.228299  1.000000"
      ]
     },
     "execution_count": 26,
     "metadata": {},
     "output_type": "execute_result"
    }
   ],
   "source": [
    "corr"
   ]
  },
  {
   "cell_type": "code",
   "execution_count": 28,
   "id": "1c5d09c0",
   "metadata": {},
   "outputs": [
    {
     "data": {
      "image/png": "[encoded data removed]",
      "text/plain": [
       "<Figure size 432x288 with 2 Axes>"
      ]
     },
     "metadata": {
      "needs_background": "light"
     },
     "output_type": "display_data"
    }
   ],
   "source": [
    "sns.heatmap(corr, annot=True)\n",
    "plt.yticks(rotation=0)\n",
    "plt.show()"
   ]
  },
  {
   "cell_type": "code",
   "execution_count": 31,
   "id": "247bdb57",
   "metadata": {},
   "outputs": [
    {
     "data": {
      "text/plain": [
       "<seaborn.axisgrid.FacetGrid at 0x1b6669097c0>"
      ]
     },
     "execution_count": 31,
     "metadata": {},
     "output_type": "execute_result"
    },
    {
     "data": {
      "image/png": "[encoded data removed]",
      "text/plain": [
       "<Figure size 360x360 with 1 Axes>"
      ]
     },
     "metadata": {
      "needs_background": "light"
     },
     "output_type": "display_data"
    }
   ],
   "source": [
    "sns.relplot(x='sales' , y='TV'  , data=df)"
   ]
  },
  {
   "cell_type": "code",
   "execution_count": 32,
   "id": "ef39e97f",
   "metadata": {},
   "outputs": [
    {
     "data": {
      "text/plain": [
       "<seaborn.axisgrid.FacetGrid at 0x1b667149df0>"
      ]
     },
     "execution_count": 32,
     "metadata": {},
     "output_type": "execute_result"
    },
    {
     "data": {
      "image/png": "[encoded data removed]",
      "text/plain": [
       "<Figure size 360x360 with 1 Axes>"
      ]
     },
     "metadata": {
      "needs_background": "light"
     },
     "output_type": "display_data"
    }
   ],
   "source": [
    "sns.relplot(x='sales' , y='radio' , data=df)"
   ]
  },
  {
   "cell_type": "code",
   "execution_count": 33,
   "id": "7d1ef42e",
   "metadata": {},
   "outputs": [
    {
     "data": {
      "text/plain": [
       "<seaborn.axisgrid.FacetGrid at 0x1b66713d310>"
      ]
     },
     "execution_count": 33,
     "metadata": {},
     "output_type": "execute_result"
    },
    {
     "data": {
      "image/png": "[encoded data removed]",
      "text/plain": [
       "<Figure size 360x360 with 1 Axes>"
      ]
     },
     "metadata": {
      "needs_background": "light"
     },
     "output_type": "display_data"
    }
   ],
   "source": [
    "sns.relplot(x='sales' , y='newspaper' , data=df)"
   ]
  },
  {
   "cell_type": "code",
   "execution_count": 39,
   "id": "e163cc56",
   "metadata": {},
   "outputs": [
    {
     "data": {
      "text/plain": [
       "<AxesSubplot:>"
      ]
     },
     "execution_count": 39,
     "metadata": {},
     "output_type": "execute_result"
    },
    {
     "data": {
      "image/png": "[encoded data removed]",
      "text/plain": [
       "<Figure size 720x576 with 1 Axes>"
      ]
     },
     "metadata": {
      "needs_background": "light"
     },
     "output_type": "display_data"
    }
   ],
   "source": [
    "df.groupby('sales')[['TV' , 'radio' , 'newspaper']].mean().T.plot(kind='barh' , figsize=(10,8))"
   ]
  },
  {
   "cell_type": "code",
   "execution_count": 40,
   "id": "62ac0fdf",
   "metadata": {},
   "outputs": [
    {
     "data": {
      "text/plain": [
       "Unnamed: 0    200\n",
       "TV            190\n",
       "radio         167\n",
       "newspaper     172\n",
       "sales         121\n",
       "dtype: int64"
      ]
     },
     "execution_count": 40,
     "metadata": {},
     "output_type": "execute_result"
    }
   ],
   "source": [
    "df.nunique()"
   ]
  },
  {
   "cell_type": "markdown",
   "id": "9452c7ce",
   "metadata": {},
   "source": [
    "OUTLIER  ANALYSIS"
   ]
  },
  {
   "cell_type": "code",
   "execution_count": 46,
   "id": "1f369d03",
   "metadata": {},
   "outputs": [
    {
     "data": {
      "image/png": "[encoded data removed]",
      "text/plain": [
       "<Figure size 720x576 with 3 Axes>"
      ]
     },
     "metadata": {
      "needs_background": "light"
     },
     "output_type": "display_data"
    }
   ],
   "source": [
    "fig, axs = plt.subplots(3, figsize=(10,8))\n",
    "plt1 = sns.boxplot(df['TV'], ax=axs[0])\n",
    "plt2 = sns.boxplot(df['radio'] , ax=axs[1])\n",
    "plt3 = sns.boxplot(df['newspaper'] , ax=axs[2])\n",
    "plt.tight_layout()"
   ]
  },
  {
   "cell_type": "code",
   "execution_count": 49,
   "id": "b635b2c1",
   "metadata": {},
   "outputs": [
    {
     "data": {
      "text/plain": [
       "<bound method NDFrame.describe of      Unnamed: 0     TV  radio  newspaper  sales\n",
       "0             1  230.1   37.8       69.2   22.1\n",
       "1             2   44.5   39.3       45.1   10.4\n",
       "2             3   17.2   45.9       69.3    9.3\n",
       "3             4  151.5   41.3       58.5   18.5\n",
       "4             5  180.8   10.8       58.4   12.9\n",
       "..          ...    ...    ...        ...    ...\n",
       "195         196   38.2    3.7       13.8    7.6\n",
       "196         197   94.2    4.9        8.1    9.7\n",
       "197         198  177.0    9.3        6.4   12.8\n",
       "198         199  283.6   42.0       66.2   25.5\n",
       "199         200  232.1    8.6        8.7   13.4\n",
       "\n",
       "[200 rows x 5 columns]>"
      ]
     },
     "execution_count": 49,
     "metadata": {},
     "output_type": "execute_result"
    }
   ],
   "source": [
    "df.describe"
   ]
  },
  {
   "cell_type": "code",
   "execution_count": 50,
   "id": "19a69bed",
   "metadata": {},
   "outputs": [
    {
     "data": {
      "image/png": "[encoded data removed]",
      "text/plain": [
       "<Figure size 432x288 with 1 Axes>"
      ]
     },
     "metadata": {
      "needs_background": "light"
     },
     "output_type": "display_data"
    }
   ],
   "source": [
    "sns.boxplot(df['sales'])\n",
    "plt.show()"
   ]
  },
  {
   "cell_type": "code",
   "execution_count": 51,
   "id": "48768674",
   "metadata": {},
   "outputs": [
    {
     "data": {
      "image/png": "[encoded data removed]",
      "text/plain": [
       "<Figure size 1296x432 with 3 Axes>"
      ]
     },
     "metadata": {
      "needs_background": "light"
     },
     "output_type": "display_data"
    }
   ],
   "source": [
    "# sales are related with other variables using scatter plot\n",
    "sns.pairplot(df, x_vars=['TV' , 'newspaper' , 'radio' ],\n",
    "                       y_vars='sales' , height=6, aspect=1, kind='scatter')\n",
    "plt.show()"
   ]
  },
  {
   "cell_type": "code",
   "execution_count": 53,
   "id": "4b3b2500",
   "metadata": {},
   "outputs": [
    {
     "data": {
      "image/png": "[encoded data removed]",
      "text/plain": [
       "<Figure size 432x288 with 2 Axes>"
      ]
     },
     "metadata": {
      "needs_background": "light"
     },
     "output_type": "display_data"
    }
   ],
   "source": [
    "sns.heatmap(df.corr(), cmap=\"summer\" , annot=True)\n",
    "plt.show()"
   ]
  },
  {
   "cell_type": "code",
   "execution_count": 54,
   "id": "ec97e88d",
   "metadata": {},
   "outputs": [],
   "source": [
    "x=df['TV']\n",
    "y=df['sales']"
   ]
  },
  {
   "cell_type": "code",
   "execution_count": 55,
   "id": "02cab29b",
   "metadata": {},
   "outputs": [
    {
     "data": {
      "text/plain": [
       "0      230.1\n",
       "1       44.5\n",
       "2       17.2\n",
       "3      151.5\n",
       "4      180.8\n",
       "       ...  \n",
       "195     38.2\n",
       "196     94.2\n",
       "197    177.0\n",
       "198    283.6\n",
       "199    232.1\n",
       "Name: TV, Length: 200, dtype: float64"
      ]
     },
     "execution_count": 55,
     "metadata": {},
     "output_type": "execute_result"
    }
   ],
   "source": [
    "x"
   ]
  },
  {
   "cell_type": "code",
   "execution_count": 56,
   "id": "7c1124a2",
   "metadata": {},
   "outputs": [
    {
     "data": {
      "text/plain": [
       "0      22.1\n",
       "1      10.4\n",
       "2       9.3\n",
       "3      18.5\n",
       "4      12.9\n",
       "       ... \n",
       "195     7.6\n",
       "196     9.7\n",
       "197    12.8\n",
       "198    25.5\n",
       "199    13.4\n",
       "Name: sales, Length: 200, dtype: float64"
      ]
     },
     "execution_count": 56,
     "metadata": {},
     "output_type": "execute_result"
    }
   ],
   "source": [
    "y"
   ]
  },
  {
   "cell_type": "code",
   "execution_count": 58,
   "id": "a6d94c41",
   "metadata": {},
   "outputs": [],
   "source": [
    "from sklearn.model_selection import train_test_split\n",
    "x_train,x_test,y_train,y_test = train_test_split(x,y,train_size=0.8,random_state=42)"
   ]
  },
  {
   "cell_type": "code",
   "execution_count": 59,
   "id": "cc3985ed",
   "metadata": {},
   "outputs": [
    {
     "data": {
      "text/plain": [
       "79     116.0\n",
       "197    177.0\n",
       "38      43.1\n",
       "24      62.3\n",
       "122    224.0\n",
       "Name: TV, dtype: float64"
      ]
     },
     "execution_count": 59,
     "metadata": {},
     "output_type": "execute_result"
    }
   ],
   "source": [
    "x_train.head()"
   ]
  },
  {
   "cell_type": "code",
   "execution_count": 60,
   "id": "9717668b",
   "metadata": {},
   "outputs": [
    {
     "data": {
      "text/plain": [
       "79     11.0\n",
       "197    12.8\n",
       "38     10.1\n",
       "24      9.7\n",
       "122    11.6\n",
       "Name: sales, dtype: float64"
      ]
     },
     "execution_count": 60,
     "metadata": {},
     "output_type": "execute_result"
    }
   ],
   "source": [
    "y_train.head()"
   ]
  },
  {
   "cell_type": "code",
   "execution_count": 61,
   "id": "e9fd09c5",
   "metadata": {},
   "outputs": [],
   "source": [
    "import statsmodels.api as sm"
   ]
  },
  {
   "cell_type": "code",
   "execution_count": 62,
   "id": "6a426d0f",
   "metadata": {},
   "outputs": [],
   "source": [
    "x_train_sm = sm.add_constant(x_train)\n",
    "lr = sm.OLS(y_train,x_train_sm).fit()"
   ]
  },
  {
   "cell_type": "code",
   "execution_count": 63,
   "id": "b03b35ef",
   "metadata": {},
   "outputs": [
    {
     "data": {
      "text/plain": [
       "const    7.119638\n",
       "TV       0.046530\n",
       "dtype: float64"
      ]
     },
     "execution_count": 63,
     "metadata": {},
     "output_type": "execute_result"
    }
   ],
   "source": [
    "lr.params"
   ]
  },
  {
   "cell_type": "code",
   "execution_count": 64,
   "id": "a7725540",
   "metadata": {},
   "outputs": [
    {
     "name": "stdout",
     "output_type": "stream",
     "text": [
      "                            OLS Regression Results                            \n",
      "==============================================================================\n",
      "Dep. Variable:                  sales   R-squared:                       0.591\n",
      "Model:                            OLS   Adj. R-squared:                  0.589\n",
      "Method:                 Least Squares   F-statistic:                     228.5\n",
      "Date:                Thu, 21 Jul 2022   Prob (F-statistic):           1.68e-32\n",
      "Time:                        15:30:52   Log-Likelihood:                -415.93\n",
      "No. Observations:                 160   AIC:                             835.9\n",
      "Df Residuals:                     158   BIC:                             842.0\n",
      "Df Model:                           1                                         \n",
      "Covariance Type:            nonrobust                                         \n",
      "==============================================================================\n",
      "                 coef    std err          t      P>|t|      [0.025      0.975]\n",
      "------------------------------------------------------------------------------\n",
      "const          7.1196      0.530     13.446      0.000       6.074       8.165\n",
      "TV             0.0465      0.003     15.115      0.000       0.040       0.053\n",
      "==============================================================================\n",
      "Omnibus:                        0.872   Durbin-Watson:                   2.095\n",
      "Prob(Omnibus):                  0.647   Jarque-Bera (JB):                0.938\n",
      "Skew:                          -0.076   Prob(JB):                        0.626\n",
      "Kurtosis:                       2.657   Cond. No.                         352.\n",
      "==============================================================================\n",
      "\n",
      "Notes:\n",
      "[1] Standard Errors assume that the covariance matrix of the errors is correctly specified.\n"
     ]
    }
   ],
   "source": [
    "print(lr.summary())"
   ]
  },
  {
   "cell_type": "code",
   "execution_count": 67,
   "id": "fc5a0a29",
   "metadata": {},
   "outputs": [
    {
     "data": {
      "image/png": "[encoded data removed]",
      "text/plain": [
       "<Figure size 432x288 with 1 Axes>"
      ]
     },
     "metadata": {
      "needs_background": "light"
     },
     "output_type": "display_data"
    }
   ],
   "source": [
    "plt.scatter(x_train,y_train)\n",
    "plt.plot(x_train, 7.119 + 0.046*x_train, 'r')\n",
    "plt.show()"
   ]
  },
  {
   "cell_type": "markdown",
   "id": "4d38175c",
   "metadata": {},
   "source": [
    "Here, the values we concerned with  the coefficients and p-values , r-squared , f-statistical.\n",
    "linear regression equation becomes  sales = 7.119 + 0.046 x TV"
   ]
  },
  {
   "cell_type": "code",
   "execution_count": 69,
   "id": "a5c4a4ee",
   "metadata": {},
   "outputs": [],
   "source": [
    "y_train_pred = lr.predict(x_train_sm)\n",
    "res = (y_train - y_train_pred)\n"
   ]
  },
  {
   "cell_type": "code",
   "execution_count": 70,
   "id": "6bfdf424",
   "metadata": {},
   "outputs": [
    {
     "data": {
      "image/png": "[encoded data removed]",
      "text/plain": [
       "<Figure size 432x288 with 1 Axes>"
      ]
     },
     "metadata": {
      "needs_background": "light"
     },
     "output_type": "display_data"
    }
   ],
   "source": [
    "fig = plt.figure()\n",
    "sns.distplot(res,bins=15)\n",
    "fig.suptitle('Error'  , fontsize = 15)\n",
    "plt.xlabel('y_train - y_train_pred' , fontsize = 15)\n",
    "plt.show()"
   ]
  },
  {
   "cell_type": "code",
   "execution_count": 71,
   "id": "17cffd74",
   "metadata": {},
   "outputs": [
    {
     "data": {
      "image/png": "[encoded data removed]",
      "text/plain": [
       "<Figure size 432x288 with 1 Axes>"
      ]
     },
     "metadata": {
      "needs_background": "light"
     },
     "output_type": "display_data"
    }
   ],
   "source": [
    "plt.scatter(x_train,res)\n",
    "plt.show()"
   ]
  },
  {
   "cell_type": "code",
   "execution_count": 72,
   "id": "06ec1102",
   "metadata": {},
   "outputs": [],
   "source": [
    "x_test_sm = sm.add_constant(x_test)"
   ]
  },
  {
   "cell_type": "code",
   "execution_count": 74,
   "id": "fed419a4",
   "metadata": {},
   "outputs": [],
   "source": [
    "y_pred = lr.predict(x_test_sm)"
   ]
  },
  {
   "cell_type": "code",
   "execution_count": 76,
   "id": "de91b2b7",
   "metadata": {},
   "outputs": [
    {
     "data": {
      "text/plain": [
       "95     14.717944\n",
       "15     16.211548\n",
       "30     20.748197\n",
       "158     7.664036\n",
       "128    17.370139\n",
       "dtype: float64"
      ]
     },
     "execution_count": 76,
     "metadata": {},
     "output_type": "execute_result"
    }
   ],
   "source": [
    "y_pred.head()"
   ]
  },
  {
   "cell_type": "code",
   "execution_count": 77,
   "id": "253245f9",
   "metadata": {},
   "outputs": [
    {
     "data": {
      "text/plain": [
       "3.194472431998899"
      ]
     },
     "execution_count": 77,
     "metadata": {},
     "output_type": "execute_result"
    }
   ],
   "source": [
    "from sklearn.metrics import mean_squared_error\n",
    "np.sqrt(mean_squared_error(y_test , y_pred))"
   ]
  },
  {
   "cell_type": "code",
   "execution_count": 78,
   "id": "ba8580b7",
   "metadata": {},
   "outputs": [
    {
     "data": {
      "text/plain": [
       "0.6766954295627075"
      ]
     },
     "execution_count": 78,
     "metadata": {},
     "output_type": "execute_result"
    }
   ],
   "source": [
    "from sklearn.metrics import r2_score\n",
    "r_squared = r2_score(y_test , y_pred)\n",
    "r_squared"
   ]
  },
  {
   "cell_type": "code",
   "execution_count": 80,
   "id": "8507e56f",
   "metadata": {},
   "outputs": [
    {
     "data": {
      "image/png": "[encoded data removed]",
      "text/plain": [
       "<Figure size 432x288 with 1 Axes>"
      ]
     },
     "metadata": {
      "needs_background": "light"
     },
     "output_type": "display_data"
    }
   ],
   "source": [
    "#Visualizing the fit on the test set\n",
    "plt.scatter(x_test, y_test)\n",
    "plt.plot(x_test, 7.119 + 0.046*x_test, 'r')\n",
    "plt.show()"
   ]
  },
  {
   "cell_type": "markdown",
   "id": "731c4140",
   "metadata": {},
   "source": [
    "# "
   ]
  },
  {
   "cell_type": "markdown",
   "id": "455c45fb",
   "metadata": {},
   "source": [
    "# THANK YOU"
   ]
  }
 ],
 "metadata": {
  "kernelspec": {
   "display_name": "Python 3 (ipykernel)",
   "language": "python",
   "name": "python3"
  },
  "language_info": {
   "codemirror_mode": {
    "name": "ipython",
    "version": 3
   },
   "file_extension": ".py",
   "mimetype": "text/x-python",
   "name": "python",
   "nbconvert_exporter": "python",
   "pygments_lexer": "ipython3",
   "version": "3.9.12"
  }
 },
 "nbformat": 4,
 "nbformat_minor": 5
}
